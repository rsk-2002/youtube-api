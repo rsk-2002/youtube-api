{
 "cells": [
  {
   "cell_type": "code",
   "execution_count": 5,
   "id": "400d2b4a",
   "metadata": {},
   "outputs": [],
   "source": [
    "from googleapiclient.discovery import build\n",
    "from google_auth_oauthlib.flow import InstalledAppFlow"
   ]
  },
  {
   "cell_type": "code",
   "execution_count": 12,
   "id": "3fcc7c1a",
   "metadata": {},
   "outputs": [],
   "source": [
    "CLIENT_SECRET_FILE = 'client_secret.json' \n",
    "SCOPES = ['https://wwww.googleapi.com/auth/youtube']"
   ]
  },
  {
   "cell_type": "code",
   "execution_count": null,
   "id": "b5029915",
   "metadata": {},
   "outputs": [
    {
     "name": "stdout",
     "output_type": "stream",
     "text": [
      "Please visit this URL to authorize this application: https://accounts.google.com/o/oauth2/auth?response_type=code&client_id=481404073806-rcbfgg494jca7fqipu0ab3s7kd3a3r9j.apps.googleusercontent.com&redirect_uri=urn%3Aietf%3Awg%3Aoauth%3A2.0%3Aoob&scope=https%3A%2F%2Fwwww.googleapi.com%2Fauth%2Fyoutube&state=14zAVJjkjqGetuXKRjmoYPhWTlFWe0&prompt=consent&access_type=offline\n"
     ]
    }
   ],
   "source": [
    "flow = InstalledAppFlow.from_client_secrets_file(CLIENT_SECRET_FILE, SCOPES)\n",
    "credentials = flow.run_console()\n",
    "youtube = build('youtube', 'v3', credentials=credentials)"
   ]
  },
  {
   "cell_type": "code",
   "execution_count": null,
   "id": "8169b403",
   "metadata": {},
   "outputs": [],
   "source": []
  }
 ],
 "metadata": {
  "kernelspec": {
   "display_name": "Python 3 (ipykernel)",
   "language": "python",
   "name": "python3"
  },
  "language_info": {
   "codemirror_mode": {
    "name": "ipython",
    "version": 3
   },
   "file_extension": ".py",
   "mimetype": "text/x-python",
   "name": "python",
   "nbconvert_exporter": "python",
   "pygments_lexer": "ipython3",
   "version": "3.10.2"
  }
 },
 "nbformat": 4,
 "nbformat_minor": 5
}
